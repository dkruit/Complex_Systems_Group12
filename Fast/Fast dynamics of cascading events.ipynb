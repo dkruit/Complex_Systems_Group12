{
 "cells": [
  {
   "cell_type": "markdown",
   "metadata": {},
   "source": [
    "# Initialization"
   ]
  },
  {
   "cell_type": "code",
   "execution_count": 3,
   "metadata": {},
   "outputs": [],
   "source": [
    "import numpy as np\n",
    "import pandas as pd\n",
    "import random as rand\n",
    "import math \n",
    "import matplotlib.pyplot as plt"
   ]
  },
  {
   "cell_type": "code",
   "execution_count": 19,
   "metadata": {},
   "outputs": [],
   "source": [
    "# l = 10\n",
    "# n = l+1\n",
    "# f, p = np.zeros(l),np.zeros(n)\n",
    "# h0 = math.exp()"
   ]
  },
  {
   "cell_type": "markdown",
   "metadata": {},
   "source": [
    "##### Plot h0 and h1"
   ]
  },
  {
   "cell_type": "code",
   "execution_count": 50,
   "metadata": {},
   "outputs": [
    {
     "data": {
      "text/plain": [
       "[<matplotlib.lines.Line2D at 0x1a1bf1cc18>]"
      ]
     },
     "execution_count": 50,
     "metadata": {},
     "output_type": "execute_result"
    },
    {
     "data": {
      "image/png": "[encoded data removed]",
      "text/plain": [
       "<Figure size 432x288 with 1 Axes>"
      ]
     },
     "metadata": {
      "needs_background": "light"
     },
     "output_type": "display_data"
    }
   ],
   "source": [
    "x = np.linspace(expon.ppf(0.01),expon.ppf(0.99), 100)\n",
    "h0 = x\n",
    "h1 = x\n",
    "plt.plot(x)"
   ]
  },
  {
   "cell_type": "code",
   "execution_count": 51,
   "metadata": {},
   "outputs": [],
   "source": [
    "# from scipy.stats import expon\n",
    "# import matplotlib.pyplot as plt\n",
    "# fig, ax = plt.subplots(1, 1)\n",
    "\n",
    "# mean, var, skew, kurt = expon.stats(moments='mvsk')\n",
    "\n",
    "# x = np.linspace(expon.ppf(0.01),expon.ppf(0.99), 100)\n",
    "# ax.plot(x, expon.pdf(x),'r-', lw=5, alpha=0.6, label='expon pdf')"
   ]
  },
  {
   "cell_type": "markdown",
   "metadata": {},
   "source": [
    "##### Initialize matrix"
   ]
  },
  {
   "cell_type": "code",
   "execution_count": 85,
   "metadata": {},
   "outputs": [
    {
     "data": {
      "text/plain": [
       "4"
      ]
     },
     "execution_count": 85,
     "metadata": {},
     "output_type": "execute_result"
    }
   ],
   "source": [
    "import random\n",
    "random.randint(0,10)"
   ]
  },
  {
   "cell_type": "code",
   "execution_count": 92,
   "metadata": {},
   "outputs": [
    {
     "data": {
      "text/plain": [
       "[[1.8559496378689193, 1.123390521316705],\n",
       " [0.13555547687304026, 1.4233101309128968]]"
      ]
     },
     "execution_count": 92,
     "metadata": {},
     "output_type": "execute_result"
    }
   ],
   "source": [
    "M = [[uniform(-2,2) for x in range(w)] for y in range(h)] #M = fraction of overload on line j on day k\n",
    "M"
   ]
  },
  {
   "cell_type": "markdown",
   "metadata": {},
   "source": [
    "##### Define Pk and Fk"
   ]
  },
  {
   "cell_type": "code",
   "execution_count": 6,
   "metadata": {},
   "outputs": [
    {
     "name": "stdout",
     "output_type": "stream",
     "text": [
      "[[0.00400322 0.01444495 0.15001571 0.02449749 0.2678502  0.01436618\n",
      "  0.03947896 0.29783031 0.16409148 0.02342151]]\n"
     ]
    }
   ],
   "source": [
    "print(np.random.dirichlet(np.ones(10),size=1))"
   ]
  },
  {
   "cell_type": "code",
   "execution_count": null,
   "metadata": {},
   "outputs": [],
   "source": [
    "N,gen,nodes,P_f, = 10,5,5,30\n",
    "P_b = -P_f\n",
    "\n",
    "\n"
   ]
  },
  {
   "cell_type": "code",
   "execution_count": 138,
   "metadata": {},
   "outputs": [
    {
     "name": "stdout",
     "output_type": "stream",
     "text": [
      "prob_j is [[10.93351796  8.16152208]\n",
      " [ 3.00079955  2.91928709]]\n",
      "prob_j is [[1.         0.74646807]\n",
      " [0.27445874 0.26700346]]\n"
     ]
    }
   ],
   "source": [
    "#Initialize matrix M \n",
    "w, h,total = 2, 2, 10\n",
    "\n",
    "M = [[uniform(-2,2) for x in range(w)] for y in range(h)] #M = fraction of overload on line j on day k\n",
    "F = [uniform(-2,2) for x in range(w)] #F = vector of m line flows on day k\n",
    "P = [uniform(-1,2) for x in range(w)] #P = vector of real power injections on day k \n",
    "\n",
    "# Define probability of overloaded line j\n",
    "prob_j,prob_k = np.zeros([w,h]),np.zeros([w,h])\n",
    "for i in range(len(M)):\n",
    "    for j in range(len(M[i])):\n",
    "        prob_j[i][j] = 3*M[i][j] + 5 #define H0 as ax + b --> 3x + 5     \n",
    "\n",
    "#Normalize between [0,1]        \n",
    "maxval = abs(prob_j.max())\n",
    "prob_j = prob_j/maxval\n"
   ]
  }
 ],
 "metadata": {
  "kernelspec": {
   "display_name": "Python 3",
   "language": "python",
   "name": "python3"
  },
  "language_info": {
   "codemirror_mode": {
    "name": "ipython",
    "version": 3
   },
   "file_extension": ".py",
   "mimetype": "text/x-python",
   "name": "python",
   "nbconvert_exporter": "python",
   "pygments_lexer": "ipython3",
   "version": "3.7.3"
  }
 },
 "nbformat": 4,
 "nbformat_minor": 2
}
